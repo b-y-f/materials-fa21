{
 "cells": [
  {
   "cell_type": "code",
   "execution_count": null,
   "id": "7e07179d",
   "metadata": {
    "deletable": false,
    "editable": false
   },
   "outputs": [],
   "source": [
    "# Initialize Otter\n",
    "import otter\n",
    "grader = otter.Notebook(\"lab08.ipynb\")"
   ]
  },
  {
   "cell_type": "markdown",
   "id": "edce3f70",
   "metadata": {},
   "source": [
    "# Lab 8: Normal Distribution and Variability of Sample Means\n",
    "\n",
    "Welcome to Lab 8!\n",
    "\n",
    "In today's lab, we will learn about [the variability of sample means](https://inferentialthinking.com/chapters/14/5/Variability_of_the_Sample_Mean.html) as well as [the normal distribution](https://www.inferentialthinking.com/chapters/14/3/SD_and_the_Normal_Curve.html).\n",
    "\n",
    "**Lab Queue**: You can find the Lab Queue at [lab.data8.org](https://lab.data8.org/). Whenever you feel stuck or need some further clarification, add yourself to the queue to get help from a GSI or academic intern! Please list your name, breakout room number, and purpose on your ticket!\n",
    "\n",
    "**Deadline**: If you are not attending lab, you have to complete this lab and submit by Wednesday, 11/03 before 8:59 A.M. PT in order to receive lab credit. Otherwise, please attend the lab you are enrolled in, get checked off with your GSI or academic intern **AND** submit this assignment by the end of the lab section (with whatever progress you've made) to receive lab credit.\n",
    "\n",
    "**Submission**: Once you're finished, scroll up to the top of the page, and run every cell in the notebook.  Select \"Save and Checkpoint\" in the File menu (please don’t hit Save As), then rerun the last cell of the notebook.  The result will contain a zip file that you can submit to Gradescope. If you are in lab, you can submit a ticket on lab.data8.org to ask a staff member to check you off. \n",
    "\n",
    "First, set up the notebook by running the cell below."
   ]
  },
  {
   "cell_type": "code",
   "execution_count": 1,
   "id": "9c98cc31",
   "metadata": {
    "execution": {
     "iopub.execute_input": "2021-11-01T08:08:25.998276Z",
     "iopub.status.busy": "2021-11-01T08:08:25.997548Z",
     "iopub.status.idle": "2021-11-01T08:08:27.436363Z",
     "shell.execute_reply": "2021-11-01T08:08:27.435733Z"
    }
   },
   "outputs": [],
   "source": [
    "# Run this cell, but please don't change it.\n",
    "\n",
    "# These lines import the Numpy and Datascience modules.\n",
    "import numpy as np\n",
    "from datascience import *\n",
    "\n",
    "# These lines do some fancy plotting magic.\n",
    "import matplotlib\n",
    "%matplotlib inline\n",
    "import matplotlib.pyplot as plots\n",
    "plots.style.use('fivethirtyeight')\n",
    "import warnings\n",
    "warnings.simplefilter('ignore')\n",
    "\n",
    "import d8error"
   ]
  },
  {
   "cell_type": "markdown",
   "id": "e28ca762",
   "metadata": {},
   "source": [
    "# 1. Normal Distributions\n",
    "\n",
    "When we visualize the distribution of a sample, we are often interested in the mean and the standard deviation of the sample (for the rest of this lab, we will abbreviate “standard deviation” as “SD”). These two sample statistics can give us a bird’s eye view of the distribution -- by letting us know where the distribution sits on the number line and how spread out it is, respectively. "
   ]
  },
  {
   "cell_type": "markdown",
   "id": "cb0642ca",
   "metadata": {},
   "source": [
    "We want to check if the data is linearly related, so we should look at the data."
   ]
  },
  {
   "cell_type": "markdown",
   "id": "237639ba",
   "metadata": {
    "deletable": false,
    "editable": false
   },
   "source": [
    "**Question 1.1.** The next cell loads the table `births` from lecture, which is a large random sample of US births and includes information about mother-child pairs. \n",
    "\n",
    "Plot the distribution of mother’s ages from the table. Don’t change the last line, which will plot the mean of the sample on the distribution itself.\n",
    "\n",
    "<!--\n",
    "BEGIN QUESTION\n",
    "name: q1_1\n",
    "-->"
   ]
  },
  {
   "cell_type": "code",
   "execution_count": 2,
   "id": "0757f6bb",
   "metadata": {
    "deletable": false,
    "execution": {
     "iopub.execute_input": "2021-11-01T08:08:27.443857Z",
     "iopub.status.busy": "2021-11-01T08:08:27.442878Z",
     "iopub.status.idle": "2021-11-01T08:08:27.698064Z",
     "shell.execute_reply": "2021-11-01T08:08:27.698851Z"
    },
    "scrolled": false
   },
   "outputs": [],
   "source": [
    "births = Table.read_table('baby.csv')\n",
    "...\n",
    "\n",
    "# Do not change anything below this line\n",
    "plots.scatter(np.mean(births.column(\"Maternal Age\")), 0, color='red', zorder=2, s=50);\n",
    "plots.ylim(-0.005, 0.07);"
   ]
  },
  {
   "cell_type": "markdown",
   "id": "bafc41e8",
   "metadata": {},
   "source": [
    "From the plot above, we can see that the mean is the center of gravity or balance point of the distribution. If you cut the distribution out of cardboard, and then placed your finger at the mean, the distribution would perfectly balance on your finger. Since the distribution above is right skewed (which means it has a long right tail), we know that the mean of the distribution is larger than the median, which is the “halfway” point of the data. Conversely, if the distribution had been left skewed, we know the mean would be smaller than the median."
   ]
  },
  {
   "cell_type": "markdown",
   "id": "49b214d9",
   "metadata": {
    "deletable": false,
    "editable": false
   },
   "source": [
    "**Question 1.2.** Run the following cell to compare the mean (red) and median (blue) of the distribution of mothers ages.\n",
    "\n",
    "<!--\n",
    "BEGIN QUESTION\n",
    "name: q1_2\n",
    "-->"
   ]
  },
  {
   "cell_type": "code",
   "execution_count": 3,
   "id": "ee38e7ec",
   "metadata": {
    "execution": {
     "iopub.execute_input": "2021-11-01T08:08:27.820203Z",
     "iopub.status.busy": "2021-11-01T08:08:27.812268Z",
     "iopub.status.idle": "2021-11-01T08:08:28.106586Z",
     "shell.execute_reply": "2021-11-01T08:08:28.105448Z"
    }
   },
   "outputs": [],
   "source": [
    "births.hist(\"Maternal Age\")\n",
    "plots.scatter(np.mean(births.column(\"Maternal Age\")), 0, color='red', zorder=2, s=50, label=\"Mean\")\n",
    "plots.scatter(np.median(births.column(\"Maternal Age\")), 0, color='blue', zorder=2, s=50, label=\"Median\")\n",
    "plots.legend()\n",
    "plots.ylim(-0.005, 0.07);"
   ]
  },
  {
   "cell_type": "markdown",
   "id": "953a67ca",
   "metadata": {},
   "source": [
    "We are also interested in the standard deviation of mother’s ages. The SD gives us a sense of how variable mothers' ages are around the average mothers' age. If the SD is large, then the mothers' ages should spread over a large range from the mean. If the SD is small, then the mothers' ages should be tightly clustered around the average mother age. \n",
    "\n",
    "**The SD of an array is defined as the root mean square of the deviations where the deviations are the difference between the original elements and their average.**\n",
    "\n",
    "You can read more about Variability and SD in [Chapter 14.2](https://inferentialthinking.com/chapters/14/2/Variability.html). Fun fact! $\\sigma$ (Greek letter sigma) is used to represent the SD and $\\mu$ (Greek letter mu) is used for the mean. "
   ]
  },
  {
   "cell_type": "markdown",
   "id": "cecef1fa",
   "metadata": {
    "deletable": false,
    "editable": false
   },
   "source": [
    "**Question 1.3.** Assign `age_mean` to the mean of the maternal ages and `age_sd` to the SD of the maternal ages. Then run the cell below to see the width of one SD (blue) from the sample mean (red) plotted on the histogram of maternal ages.\n",
    "\n",
    "<!--\n",
    "BEGIN QUESTION\n",
    "name: q1_3\n",
    "-->"
   ]
  },
  {
   "cell_type": "code",
   "execution_count": 4,
   "id": "971c9fae",
   "metadata": {
    "execution": {
     "iopub.execute_input": "2021-11-01T08:08:28.132633Z",
     "iopub.status.busy": "2021-11-01T08:08:28.114183Z",
     "iopub.status.idle": "2021-11-01T08:08:28.362237Z",
     "shell.execute_reply": "2021-11-01T08:08:28.362978Z"
    },
    "for_assignment_type": "solution",
    "scrolled": true
   },
   "outputs": [],
   "source": [
    "age_mean = ...\n",
    "age_sd = ...\n",
    "births.hist(\"Maternal Age\")\n",
    "\n",
    "plots.scatter(age_mean, 0, color='red', zorder=2, s=50);\n",
    "plots.scatter(age_mean+age_sd, 0, marker='^', color='blue', zorder=2, s=50);\n",
    "plots.scatter(age_mean-age_sd, 0, marker='^', color='blue', zorder=2, s=50);\n",
    "plots.ylim(-0.005, 0.07);"
   ]
  },
  {
   "cell_type": "code",
   "execution_count": null,
   "id": "bc01fd56",
   "metadata": {
    "deletable": false,
    "editable": false
   },
   "outputs": [],
   "source": [
    "grader.check(\"q1_3\")"
   ]
  },
  {
   "cell_type": "markdown",
   "id": "8a357c85",
   "metadata": {},
   "source": [
    "In this histogram, the standard deviation is not easy to identify just by looking at the graph.\n",
    "\n",
    "However, the distributions of some variables allow us to easily spot the standard deviation on the plot. For example, if a sample follows a *normal distribution*, the standard deviation is easily spotted at the point of inflection (the point where the curve begins to change the direction of its curvature) of the distribution. "
   ]
  },
  {
   "cell_type": "markdown",
   "id": "a41599b7",
   "metadata": {
    "deletable": false,
    "editable": false
   },
   "source": [
    "**Question 1.4.** Fill in the following code to examine the distribution of maternal heights, which is roughly normally distributed. We’ll plot the standard deviation on the histogram, as before - notice where one standard deviation (blue) away from the mean (red) falls on the plot.\n",
    "\n",
    "<!--\n",
    "BEGIN QUESTION\n",
    "name: q1_4\n",
    "-->"
   ]
  },
  {
   "cell_type": "code",
   "execution_count": 7,
   "id": "cf87b92b",
   "metadata": {
    "execution": {
     "iopub.execute_input": "2021-11-01T08:08:28.418917Z",
     "iopub.status.busy": "2021-11-01T08:08:28.393474Z",
     "iopub.status.idle": "2021-11-01T08:08:28.684201Z",
     "shell.execute_reply": "2021-11-01T08:08:28.684992Z"
    },
    "scrolled": true
   },
   "outputs": [],
   "source": [
    "height_mean = ...\n",
    "height_sd = ...\n",
    "births.hist(\"Maternal Height\", bins=np.arange(55,75,1))\n",
    "\n",
    "plots.scatter((height_mean), 0, color='red', zorder=2, s=50);\n",
    "plots.scatter(height_mean+height_sd, 0, marker='^', color='blue', zorder=2, s=50);\n",
    "plots.scatter(height_mean-height_sd, 0, marker='^', color='blue', zorder=2, s=50);\n",
    "plots.ylim(-0.01, 0.16);"
   ]
  },
  {
   "cell_type": "code",
   "execution_count": null,
   "id": "5403daf6",
   "metadata": {
    "deletable": false,
    "editable": false
   },
   "outputs": [],
   "source": [
    "grader.check(\"q1_4\")"
   ]
  },
  {
   "cell_type": "markdown",
   "id": "37968495",
   "metadata": {},
   "source": [
    "We don’t always know how a variable will be distributed, and making assumptions about whether or not a variable will follow a normal distribution is dangerous. However, the **Central Limit Theorem** defines one distribution that always follows a normal distribution. **The distribution of the *sums* and *means* of all large random samples drawn with replacement from a single distribution (regardless of the distribution’s original shape) will be normally distributed.** Remember that the Central Limit Theorem refers to the distribution of a *statistic* calculated from a distribution, not the distribution of the original sample or population. If this is confusing, ask a staff member!\n",
    "\n",
    "The next section will explore distributions of sample means, and you will see how the standard deviation of these distributions depends on sample sizes."
   ]
  },
  {
   "cell_type": "markdown",
   "id": "db8aa804",
   "metadata": {},
   "source": [
    "# 2. Variability of the Sample Mean\n",
    "\n",
    "By the [Central Limit Theorem](https://www.inferentialthinking.com/chapters/14/4/Central_Limit_Theorem.html), the probability distribution of the mean or sum of a large random sample is roughly normal. The bell curve is centered at the population mean. Some of the sample means are higher and some are lower, but the deviations from the population mean are roughly symmetric on either side, as we have seen repeatedly. \n",
    "\n",
    "In our simulations, we also noticed that the means of larger samples tend to be more tightly clustered around the population mean than means of smaller samples. In this section, we will quantify the [variability of the sample mean](https://www.inferentialthinking.com/chapters/14/5/Variability_of_the_Sample_Mean.html) and develop a relation between the variability and the sample size.\n",
    "\n",
    "Let's take a look at the salaries of employees of the City of San Francisco in 2014. The mean salary reported by the city government was about $75,463.92.\n",
    "\n",
    "*Note: If you get stuck on any part of this lab, please refer to [Chapter 14 of the textbook](https://www.inferentialthinking.com/chapters/14/Why_the_Mean_Matters.html).*"
   ]
  },
  {
   "cell_type": "code",
   "execution_count": 10,
   "id": "5770b008",
   "metadata": {
    "execution": {
     "iopub.execute_input": "2021-11-01T08:08:28.709474Z",
     "iopub.status.busy": "2021-11-01T08:08:28.708870Z",
     "iopub.status.idle": "2021-11-01T08:08:28.756180Z",
     "shell.execute_reply": "2021-11-01T08:08:28.755544Z"
    }
   },
   "outputs": [],
   "source": [
    "salaries = Table.read_table('sf_salaries_2014.csv').select(\"salary\")\n",
    "salaries.show(5)"
   ]
  },
  {
   "cell_type": "code",
   "execution_count": 11,
   "id": "d30810bc",
   "metadata": {
    "execution": {
     "iopub.execute_input": "2021-11-01T08:08:28.761840Z",
     "iopub.status.busy": "2021-11-01T08:08:28.761094Z",
     "iopub.status.idle": "2021-11-01T08:08:28.764965Z",
     "shell.execute_reply": "2021-11-01T08:08:28.764361Z"
    }
   },
   "outputs": [],
   "source": [
    "salary_mean = np.mean(salaries.column('salary'))\n",
    "print('Mean salary of San Francisco city employees in 2014: ', salary_mean.round(2))"
   ]
  },
  {
   "cell_type": "code",
   "execution_count": 12,
   "id": "d85822aa",
   "metadata": {
    "execution": {
     "iopub.execute_input": "2021-11-01T08:08:28.799026Z",
     "iopub.status.busy": "2021-11-01T08:08:28.769721Z",
     "iopub.status.idle": "2021-11-01T08:08:29.058647Z",
     "shell.execute_reply": "2021-11-01T08:08:29.059163Z"
    }
   },
   "outputs": [],
   "source": [
    "salaries.hist('salary', bins=np.arange(0, 250000+10000*2, 10000))\n",
    "plots.scatter(salary_mean, 0, color='red', zorder=2, s=50)\n",
    "plots.title('2014 salaries of city of SF employees')\n",
    "plots.ylim(-0.0000005, 0.000014);"
   ]
  },
  {
   "cell_type": "markdown",
   "id": "1df237d8",
   "metadata": {},
   "source": [
    "Clearly, the population *does not* follow a normal distribution. Keep that in mind as we progress through these exercises.\n",
    "\n",
    "Let's take random samples **with replacement** and look at the probability distribution of the sample mean. As usual, we will use simulation to get an empirical approximation to this distribution."
   ]
  },
  {
   "cell_type": "markdown",
   "id": "c500386f",
   "metadata": {
    "deletable": false,
    "editable": false
   },
   "source": [
    "**Question 2.1.** Define a function `one_sample_mean`. Its arguments should be `table` (the name of a table), `label` (the label of the column containing the variable), and `sample_size`(the number of employees in the sample). It should sample with replacement from the table and\n",
    "return the mean of the `label` column of the sample.\n",
    "\n",
    "<!--\n",
    "BEGIN QUESTION\n",
    "name: q2_1\n",
    "-->"
   ]
  },
  {
   "cell_type": "code",
   "execution_count": 13,
   "id": "851e5701",
   "metadata": {
    "execution": {
     "iopub.execute_input": "2021-11-01T08:08:29.064633Z",
     "iopub.status.busy": "2021-11-01T08:08:29.064025Z",
     "iopub.status.idle": "2021-11-01T08:08:29.067209Z",
     "shell.execute_reply": "2021-11-01T08:08:29.066624Z"
    }
   },
   "outputs": [],
   "source": [
    "def one_sample_mean(table, label, sample_size):\n",
    "    new_sample = ...\n",
    "    new_sample_mean = ...\n",
    "    ..."
   ]
  },
  {
   "cell_type": "code",
   "execution_count": null,
   "id": "2cd33cde",
   "metadata": {
    "deletable": false,
    "editable": false
   },
   "outputs": [],
   "source": [
    "grader.check(\"q2_1\")"
   ]
  },
  {
   "cell_type": "markdown",
   "id": "63754178",
   "metadata": {
    "deletable": false,
    "editable": false
   },
   "source": [
    "**Question 2.2.** Use `one_sample_mean` to define a function `simulate_sample_mean`. The arguments are the name of the `table`, the `label` of the column containing the variable, the `sample_size`, and the number of simulations (`repetitions`).\n",
    "\n",
    "The function should sample with replacement from the table and calculate the mean of each sample. It should save the sample means in an array called `means`. The remaining code in the function displays an empirical histogram of the sample means.\n",
    "\n",
    "*Note: We round all values to 2 decimal places because we are working with salaries.*\n",
    "\n",
    "<!--\n",
    "BEGIN QUESTION\n",
    "name: q2_2\n",
    "-->"
   ]
  },
  {
   "cell_type": "code",
   "execution_count": 15,
   "id": "02918338",
   "metadata": {
    "deletable": false,
    "execution": {
     "iopub.execute_input": "2021-11-01T08:08:29.088417Z",
     "iopub.status.busy": "2021-11-01T08:08:29.087447Z",
     "iopub.status.idle": "2021-11-01T08:08:29.090784Z",
     "shell.execute_reply": "2021-11-01T08:08:29.089871Z"
    }
   },
   "outputs": [],
   "source": [
    "\"\"\"Empirical distribution of random sample means\"\"\"\n",
    "\n",
    "def simulate_sample_mean(table, label, sample_size, repetitions):\n",
    "    \n",
    "    means = make_array()\n",
    "\n",
    "    for i in np.arange(repetitions):\n",
    "        new_sample_mean = ...\n",
    "        means = ...\n",
    "\n",
    "    sample_means = Table().with_column('Sample Means', means)\n",
    "    \n",
    "    # Display empirical histogram and print all relevant quantities – don't change this!\n",
    "    sample_means.hist(bins=20)\n",
    "    plots.xlabel('Sample Means')\n",
    "    plots.title('Sample Size {sample_size}; {repetitions} Resamples'.format(sample_size=sample_size, repetitions=repetitions))\n",
    "    print(\"Sample size: \", sample_size)\n",
    "    print(\"Population mean:\", np.mean(table.column(label)).round(2))\n",
    "    print(\"Average of sample means: \", np.mean(means).round(2))\n",
    "    print(\"Population SD:\", np.std(table.column(label)).round(2))\n",
    "    print(\"SD of sample means:\", np.std(means).round(2))\n",
    "    return np.std(means)"
   ]
  },
  {
   "cell_type": "markdown",
   "id": "76d9de51",
   "metadata": {},
   "source": [
    "Verify with a peer or TA that you've implemented the function above correctly. If you haven't implemented it correctly, the rest of the lab won't work properly, so this step is crucial."
   ]
  },
  {
   "cell_type": "markdown",
   "id": "d050a5f9",
   "metadata": {},
   "source": [
    " In the following cell, we will create a sample of size 100 from `salaries` and graph it using our new `simulate_sample_mean` function.\n",
    " \n",
    " *Hint: You should see a distribution similar to something we've been talking about. If not, check your function.*"
   ]
  },
  {
   "cell_type": "code",
   "execution_count": 16,
   "id": "fcf0306d",
   "metadata": {
    "execution": {
     "iopub.execute_input": "2021-11-01T08:08:29.096868Z",
     "iopub.status.busy": "2021-11-01T08:08:29.095933Z",
     "iopub.status.idle": "2021-11-01T08:08:30.705310Z",
     "shell.execute_reply": "2021-11-01T08:08:30.704564Z"
    },
    "scrolled": false
   },
   "outputs": [],
   "source": [
    "simulate_sample_mean(salaries, 'salary', 100, 10000) \n",
    "plots.xlim(50000, 100000);"
   ]
  },
  {
   "cell_type": "markdown",
   "id": "6fc8d687",
   "metadata": {},
   "source": [
    "Notice that our distribution of *sample means* looks approximately normal! Did it matter if our original distribution was normally distributed?"
   ]
  },
  {
   "cell_type": "markdown",
   "id": "1c1cec0a",
   "metadata": {
    "deletable": false,
    "editable": false
   },
   "source": [
    "**Question 2.3.** Simulate two sample means, one for a sample of 400 salaries and one for a sample of 625 salaries. In each case, perform 10,000 repetitions. Don't worry about the `plots.xlim` or `plots.ylim` lines – they just make sure that all of the plots have the same x-axis and y-axis, respectively. \n",
    "\n",
    "<!--\n",
    "BEGIN QUESTION\n",
    "name: q2_3\n",
    "-->"
   ]
  },
  {
   "cell_type": "code",
   "execution_count": 17,
   "id": "fb721917",
   "metadata": {
    "execution": {
     "iopub.execute_input": "2021-11-01T08:08:30.742892Z",
     "iopub.status.busy": "2021-11-01T08:08:30.726204Z",
     "iopub.status.idle": "2021-11-01T08:08:36.798760Z",
     "shell.execute_reply": "2021-11-01T08:08:36.799192Z"
    },
    "for_assignment_type": "solution"
   },
   "outputs": [],
   "source": [
    "simulate_sample_mean(..., ..., ..., ...)\n",
    "plots.xlim(50000, 100000)\n",
    "plots.ylim(0, 0.0002)\n",
    "plots.show();\n",
    "print('\\n')\n",
    "simulate_sample_mean(..., ..., ..., ...)\n",
    "plots.xlim(50000, 100000)\n",
    "plots.ylim(0, 0.0002)\n",
    "plots.show();"
   ]
  },
  {
   "cell_type": "markdown",
   "id": "a4925906",
   "metadata": {
    "deletable": false,
    "editable": false
   },
   "source": [
    "**Question 2.4.** Assign `q2_4` to an array of numbers corresponding to true statement(s) about the plots from 2.3. \n",
    "\n",
    "*Hint*: If a distribution is bell-shaped, what type of curve does it follow? \n",
    "\n",
    "1. We see the Central Limit Theorem (CLT) in action because the distributions of the sample means are bell-shaped.\n",
    "2. We see the Law of Averages in action because the distributions of the sample means look like the distribution of the population.\n",
    "3. One of the conditions for CLT is that we have to draw a small random sample with replacement from the population.\n",
    "4. One of the conditions for CLT is that we have to draw a large random sample with replacement from the population.\n",
    "5. One of the conditions for CLT is that the population must be normally distributed.\n",
    "\n",
    "<!--\n",
    "BEGIN QUESTION\n",
    "name: q2_4\n",
    "-->"
   ]
  },
  {
   "cell_type": "code",
   "execution_count": 18,
   "id": "58fbeabc",
   "metadata": {
    "execution": {
     "iopub.execute_input": "2021-11-01T08:08:36.805465Z",
     "iopub.status.busy": "2021-11-01T08:08:36.804820Z",
     "iopub.status.idle": "2021-11-01T08:08:36.808454Z",
     "shell.execute_reply": "2021-11-01T08:08:36.807846Z"
    },
    "for_assignment_type": "solution"
   },
   "outputs": [],
   "source": [
    "q2_4 = ..."
   ]
  },
  {
   "cell_type": "code",
   "execution_count": null,
   "id": "86dc94ea",
   "metadata": {
    "deletable": false,
    "editable": false
   },
   "outputs": [],
   "source": [
    "grader.check(\"q2_4\")"
   ]
  },
  {
   "cell_type": "markdown",
   "id": "572ebd35",
   "metadata": {
    "deletable": false,
    "editable": false
   },
   "source": [
    "**Question 2.5.** Assign `q2_5` to an array of numbers corresponding to true statement(s) about the plots from 2.3.\n",
    "\n",
    "1. Both plots in 2.3 are roughly centered around the population mean.\n",
    "2. Both plots in 2.3 are roughly centered around the mean of a particular sample.\n",
    "3. The distribution of sample means for sample size 625 has less variability than the distribution of sample means for sample size 400.\n",
    "4. The distribution of sample means for sample size 625 has more variability than the distribution of sample means for sample size 400.\n",
    "\n",
    "<!--\n",
    "BEGIN QUESTION\n",
    "name: q2_5\n",
    "-->"
   ]
  },
  {
   "cell_type": "code",
   "execution_count": 20,
   "id": "71c8323b",
   "metadata": {
    "execution": {
     "iopub.execute_input": "2021-11-01T08:08:36.824749Z",
     "iopub.status.busy": "2021-11-01T08:08:36.823660Z",
     "iopub.status.idle": "2021-11-01T08:08:36.826612Z",
     "shell.execute_reply": "2021-11-01T08:08:36.825837Z"
    }
   },
   "outputs": [],
   "source": [
    "q2_5 = ..."
   ]
  },
  {
   "cell_type": "code",
   "execution_count": null,
   "id": "c3421036",
   "metadata": {
    "deletable": false,
    "editable": false
   },
   "outputs": [],
   "source": [
    "grader.check(\"q2_5\")"
   ]
  },
  {
   "cell_type": "markdown",
   "id": "a82493b7",
   "metadata": {},
   "source": [
    "Below, we'll look at what happens when we take an **increasing number of resamples of a fixed sample size.** Notice what number in the code changes, and what stays the same. How does the distribution of the resampled means change?"
   ]
  },
  {
   "cell_type": "code",
   "execution_count": 22,
   "id": "de48e8a2",
   "metadata": {
    "execution": {
     "iopub.execute_input": "2021-11-01T08:08:36.877922Z",
     "iopub.status.busy": "2021-11-01T08:08:36.869088Z",
     "iopub.status.idle": "2021-11-01T08:08:37.171553Z",
     "shell.execute_reply": "2021-11-01T08:08:37.170697Z"
    }
   },
   "outputs": [],
   "source": [
    "simulate_sample_mean(salaries, 'salary', 100, 500)\n",
    "plots.xlim(50000, 100000)\n",
    "plots.ylim(0, 0.00009);"
   ]
  },
  {
   "cell_type": "code",
   "execution_count": 23,
   "id": "54e3453f",
   "metadata": {
    "execution": {
     "iopub.execute_input": "2021-11-01T08:08:37.184753Z",
     "iopub.status.busy": "2021-11-01T08:08:37.182659Z",
     "iopub.status.idle": "2021-11-01T08:08:37.540529Z",
     "shell.execute_reply": "2021-11-01T08:08:37.539650Z"
    }
   },
   "outputs": [],
   "source": [
    "simulate_sample_mean(salaries, 'salary', 100, 1000)\n",
    "plots.xlim(50000, 100000);\n",
    "plots.ylim(0, 0.00009);"
   ]
  },
  {
   "cell_type": "code",
   "execution_count": 24,
   "id": "1f4bbc04",
   "metadata": {
    "execution": {
     "iopub.execute_input": "2021-11-01T08:08:37.553808Z",
     "iopub.status.busy": "2021-11-01T08:08:37.549111Z",
     "iopub.status.idle": "2021-11-01T08:08:38.496495Z",
     "shell.execute_reply": "2021-11-01T08:08:38.496966Z"
    }
   },
   "outputs": [],
   "source": [
    "simulate_sample_mean(salaries, 'salary', 100, 5000)\n",
    "plots.xlim(50000, 100000);\n",
    "plots.ylim(0, 0.00009);"
   ]
  },
  {
   "cell_type": "code",
   "execution_count": 25,
   "id": "cfb593e5",
   "metadata": {
    "execution": {
     "iopub.execute_input": "2021-11-01T08:08:38.615263Z",
     "iopub.status.busy": "2021-11-01T08:08:38.512895Z",
     "iopub.status.idle": "2021-11-01T08:08:40.562002Z",
     "shell.execute_reply": "2021-11-01T08:08:40.560988Z"
    }
   },
   "outputs": [],
   "source": [
    "simulate_sample_mean(salaries, 'salary', 100, 10000)\n",
    "plots.xlim(50000, 100000);\n",
    "plots.ylim(0, 0.00009);"
   ]
  },
  {
   "cell_type": "markdown",
   "id": "8876f46b",
   "metadata": {},
   "source": [
    "What did you notice about the distributions of sample means in the four histograms above? Discuss with your peers or ask a staff member."
   ]
  },
  {
   "cell_type": "markdown",
   "id": "f9e21803",
   "metadata": {
    "deletable": false,
    "editable": false
   },
   "source": [
    "**Question 2.6.** Assign the variable `SD_of_sample_means` to the integer corresponding to your answer to the following question:\n",
    "\n",
    "When I increase the number of *resamples* that I take, for a *fixed* sample size, the SD of my sample means will...\n",
    "\n",
    "1. Increase\n",
    "2. Decrease\n",
    "3. Stay about the same\n",
    "4. Vary widely\n",
    "\n",
    "<!--\n",
    "BEGIN QUESTION\n",
    "name: q2_6\n",
    "-->"
   ]
  },
  {
   "cell_type": "code",
   "execution_count": 26,
   "id": "8482e129",
   "metadata": {
    "deletable": false,
    "execution": {
     "iopub.execute_input": "2021-11-01T08:08:40.567490Z",
     "iopub.status.busy": "2021-11-01T08:08:40.566525Z",
     "iopub.status.idle": "2021-11-01T08:08:40.570129Z",
     "shell.execute_reply": "2021-11-01T08:08:40.569622Z"
    }
   },
   "outputs": [],
   "source": [
    "SD_of_sample_means = ..."
   ]
  },
  {
   "cell_type": "code",
   "execution_count": null,
   "id": "ad24d3d0",
   "metadata": {
    "deletable": false,
    "editable": false
   },
   "outputs": [],
   "source": [
    "grader.check(\"q2_6\")"
   ]
  },
  {
   "cell_type": "markdown",
   "id": "fc5a389a",
   "metadata": {
    "deletable": false,
    "editable": false
   },
   "source": [
    "**Question 2.7.** Let's think about how the relationships between population SD, sample SD, and SD of sample means change with varying sample size. Which of the following is true? Assign the variable `pop_vs_sample` to an array of integer(s) that correspond to true statement(s).\n",
    "\n",
    "*Hint 1:* The sample SD is different from the SD of sample means. \n",
    "\n",
    "1. Sample SD gets smaller with increasing sample size.\n",
    "2. Sample SD gets larger with increasing sample size.\n",
    "3. Sample SD becomes more consistent with population SD with increasing sample size.\n",
    "4. SD of sample means gets smaller with increasing sample size.\n",
    "5. SD of sample means gets larger with increasing sample size.\n",
    "6. SD of sample means stays the same with increasing sample size.\n",
    "\n",
    "<!--\n",
    "BEGIN QUESTION\n",
    "name: q2_7\n",
    "-->"
   ]
  },
  {
   "cell_type": "code",
   "execution_count": 28,
   "id": "9a67dcdc",
   "metadata": {
    "deletable": false,
    "execution": {
     "iopub.execute_input": "2021-11-01T08:08:40.589619Z",
     "iopub.status.busy": "2021-11-01T08:08:40.588700Z",
     "iopub.status.idle": "2021-11-01T08:08:40.591298Z",
     "shell.execute_reply": "2021-11-01T08:08:40.591764Z"
    }
   },
   "outputs": [],
   "source": [
    "pop_vs_sample = ..."
   ]
  },
  {
   "cell_type": "code",
   "execution_count": null,
   "id": "4ea11278",
   "metadata": {
    "deletable": false,
    "editable": false
   },
   "outputs": [],
   "source": [
    "grader.check(\"q2_7\")"
   ]
  },
  {
   "cell_type": "markdown",
   "id": "e2301d18",
   "metadata": {
    "deletable": false,
    "editable": false
   },
   "source": [
    "**Question 2.8.** Is there a relationship between the sample size and the standard deviation of the sample means? Assign `q2_8` to the number corresponding to the statement that answers this question.\n",
    "\n",
    "*Hint:* [Chapter 14.5](https://inferentialthinking.com/chapters/14/5/Variability_of_the_Sample_Mean.html) of the textbook may be helpful.\n",
    "\n",
    "1. The SD of the sample means is inversely proportional to the square root of sample size.\n",
    "2. The SD of the sample means is directly proportional to the square root of sample size.\n",
    "\n",
    "<!--\n",
    "BEGIN QUESTION\n",
    "name: q2_8\n",
    "-->"
   ]
  },
  {
   "cell_type": "code",
   "execution_count": 30,
   "id": "d30d4b2c",
   "metadata": {
    "execution": {
     "iopub.execute_input": "2021-11-01T08:08:40.607131Z",
     "iopub.status.busy": "2021-11-01T08:08:40.606339Z",
     "iopub.status.idle": "2021-11-01T08:08:40.609360Z",
     "shell.execute_reply": "2021-11-01T08:08:40.608878Z"
    }
   },
   "outputs": [],
   "source": [
    "q2_8 = ..."
   ]
  },
  {
   "cell_type": "code",
   "execution_count": null,
   "id": "e1d53626",
   "metadata": {
    "deletable": false,
    "editable": false
   },
   "outputs": [],
   "source": [
    "grader.check(\"q2_8\")"
   ]
  },
  {
   "cell_type": "markdown",
   "id": "17110e28",
   "metadata": {},
   "source": [
    "Throughout this lab, we have been taking many random samples from a population. However, all of these principles hold for bootstrapped resamples from a single sample. If your original sample is relatively large, all of your re-samples will also be relatively large, and so the SD of resampled means will be relatively small. \n",
    "\n",
    "In order to change the variability of your sample mean, you’d have to change the size of the original sample from which you are taking bootstrapped resamples."
   ]
  },
  {
   "cell_type": "markdown",
   "id": "c35f4457",
   "metadata": {},
   "source": [
    "## 3. Submission\n",
    "\n",
    "Congratulations, you're done with Lab 8!  Be sure to \n",
    "- **Run all the tests** (the next cell has a shortcut for that). \n",
    "- **Save and Checkpoint** from the `File` menu.\n",
    "- **Run the cell at the bottom to download a .zip file and submit to Gradescope. **.\n",
    "- If you're in lab, ask one of the staff members to check you off."
   ]
  },
  {
   "cell_type": "markdown",
   "id": "9746878d",
   "metadata": {
    "deletable": false,
    "editable": false
   },
   "source": [
    "---\n",
    "\n",
    "To double-check your work, the cell below will rerun all of the autograder tests."
   ]
  },
  {
   "cell_type": "code",
   "execution_count": null,
   "id": "857dde9f",
   "metadata": {
    "deletable": false,
    "editable": false
   },
   "outputs": [],
   "source": [
    "grader.check_all()"
   ]
  },
  {
   "cell_type": "markdown",
   "id": "34d0cb04",
   "metadata": {
    "deletable": false,
    "editable": false
   },
   "source": [
    "## Submission\n",
    "\n",
    "Make sure you have run all cells in your notebook in order before running the cell below, so that all images/graphs appear in the output. The cell below will generate a zip file for you to submit. **Please save before exporting!**"
   ]
  },
  {
   "cell_type": "code",
   "execution_count": null,
   "id": "7793f10e",
   "metadata": {
    "deletable": false,
    "editable": false
   },
   "outputs": [],
   "source": [
    "# Save your notebook first, then run this cell to export your submission.\n",
    "grader.export(pdf=False, force_save=True)"
   ]
  },
  {
   "cell_type": "markdown",
   "id": "b331f8e0",
   "metadata": {},
   "source": [
    " "
   ]
  }
 ],
 "metadata": {
  "kernelspec": {
   "display_name": "Python 3",
   "language": "python",
   "name": "python3"
  },
  "language_info": {
   "codemirror_mode": {
    "name": "ipython",
    "version": 3
   },
   "file_extension": ".py",
   "mimetype": "text/x-python",
   "name": "python",
   "nbconvert_exporter": "python",
   "pygments_lexer": "ipython3",
   "version": "3.9.7"
  }
 },
 "nbformat": 4,
 "nbformat_minor": 5
}
