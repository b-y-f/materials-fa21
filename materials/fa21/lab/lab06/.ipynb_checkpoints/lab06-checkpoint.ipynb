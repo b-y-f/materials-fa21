{
 "cells": [
  {
   "cell_type": "code",
   "execution_count": 1,
   "id": "2a0efbc6",
   "metadata": {
    "deletable": false,
    "editable": false
   },
   "outputs": [],
   "source": [
    "# Initialize Otter\n",
    "import otter\n",
    "grader = otter.Notebook(\"lab06.ipynb\")"
   ]
  },
  {
   "cell_type": "markdown",
   "id": "131f5bc3",
   "metadata": {},
   "source": [
    "## Lab 6: Examining the Therapeutic Touch\n",
    "\n",
    "Welcome to Lab 6!\n",
    "\n",
    "After such an extensive introduction to programming for data science, we are finally moving into the section of the course where we can apply our new skils to answer real questions.  \n",
    "\n",
    "In this lab, we'll use testing techniques that were introduced in lecture to test the idea of the therapeutic touch, the idea that some practitioner can feel and massage your human energy field. \n",
    "\n",
    "**Lab Queue**: You can find the Lab Queue at [lab.data8.org](https://lab.data8.org/). Whenever you feel stuck or need some further clarification, add yourself to the queue to get help from a GSI or academic intern! Please list your breakout room number and purpose on your ticket!\n",
    "\n",
    "**Deadline**: If you are not attending lab, you have to complete this lab and submit by Wednesday, 10/6 before 8:59 A.M. PT in order to receive lab credit. Otherwise, please attend the lab you are enrolled in, get checked off with your GSI or academic intern **AND** submit this assignment by the end of the lab section (with whatever progress you've made) to receive lab credit.\n",
    "\n",
    "**Submission**: Once you're finished, scroll up to the top of the page, and run every cell in the notebook.  Select \"Save and Checkpoint\" in the File menu (please don’t hit Save As), then rerun the last cell of the notebook.  The result will contain a zip file that you can submit to Gradescope. If you are in lab, you can submit a ticket on lab.data8.org to ask a staff member to check you off. "
   ]
  },
  {
   "cell_type": "code",
   "execution_count": 2,
   "id": "48abe53c",
   "metadata": {
    "execution": {
     "iopub.execute_input": "2021-10-04T02:34:19.602090Z",
     "iopub.status.busy": "2021-10-04T02:34:19.600969Z",
     "iopub.status.idle": "2021-10-04T02:34:20.991897Z",
     "shell.execute_reply": "2021-10-04T02:34:20.992739Z"
    }
   },
   "outputs": [],
   "source": [
    "# Run this cell, but please don't change it.\n",
    "\n",
    "# These lines import the Numpy and Datascience modules.\n",
    "import numpy as np\n",
    "from datascience import *\n",
    "\n",
    "# These lines do some fancy plotting magic\n",
    "import matplotlib\n",
    "%matplotlib inline\n",
    "import matplotlib.pyplot as plt\n",
    "plt.style.use('fivethirtyeight')\n",
    "import warnings\n",
    "warnings.simplefilter('ignore', FutureWarning)\n",
    "from matplotlib import patches\n",
    "from ipywidgets import interact, interactive, fixed\n",
    "import ipywidgets as widgets\n",
    "\n",
    "import d8error"
   ]
  },
  {
   "cell_type": "markdown",
   "id": "35d18e49",
   "metadata": {},
   "source": [
    "## 1. What is the Therapeutic Touch\n",
    "\n",
    "The Therapeutic Touch (TT) is the idea that everyone can feel the Human Energy Field (HEF) around individuals.  Those who practice TT have described different people's HEFs as \"warm as Jell-O\" and \"tactile as taffy.\" \n",
    "\n",
    "TT was a popular technique used throughout the 20th century that was toted as a great way to bring balance to a person's health. Certain practitioners claim they have the ability to feel the HEF and can massage it in order to promote health and relaxation in individuals.\n",
    "\n",
    "### Emily Rosa\n",
    "\n",
    "[Emily Rosa](https://en.wikipedia.org/wiki/Emily_Rosa) was a 4th grade student who was very familiar with the world of TT, thanks to her parents, who were both medical practitioners and skeptics of TT.\n",
    "\n",
    "For her 4th grade science fair project, Emily decided to test whether or not TT practitioners could truly interact with a person's HEF. She later went on to publish her work in TT, becoming the youngest person to have a research paper published in a peer reviewed medical journal."
   ]
  },
  {
   "cell_type": "markdown",
   "id": "e5bf5fdc",
   "metadata": {},
   "source": [
    "### Emily's Experiment\n",
    "\n",
    "Emily's experiment was clean, simple, and effective. Due to her parents' occupations in the medical field, she had wide access to people who claimed to be TT practitioners. \n",
    "\n",
    "Emily took 21 TT practitioners and used them for her science experiment. She would take a TT practitioner and ask them to extend their hands through a screen (which they can't see through). Emily would be on the other side and would flip a fair coin. Depending on how the coin landed, she would put out either her left hand or her right hand. The TT practitioner would then have to answer which hand Emily put out. If a pracitioner could truly interact with a person's HEF, it would be expected that they answered correctly.\n",
    "\n",
    "Overall, through 210 samples, the practitioner picked the correct hand 44% of the time. \n",
    "\n",
    "Emily's main goal here was to test whether or not the TT practicioners' guesses were random, like the flip of a coin. In most medical experiments, this is the norm. We want to test whether or not the treatment has an effect, *not* whether or not the treatment actually works. \n",
    "\n",
    "We will now begin to formulate this experiment in terms of the terminology we learned in this course. "
   ]
  },
  {
   "cell_type": "markdown",
   "id": "231b83d6",
   "metadata": {
    "deletable": false,
    "editable": false
   },
   "source": [
    "**Question 1.1**: Describe Emily’s model for how likely the TT practitioners are to choose the correct hand. What alternative model is her model meant to discredit? Discuss with students around you to come to a conclusion. Check in with a TA or AI if you are stuck.\n",
    "\n",
    "<!--\n",
    "BEGIN QUESTION\n",
    "name: q1_1\n",
    "-->"
   ]
  },
  {
   "cell_type": "markdown",
   "id": "d7540c88",
   "metadata": {},
   "source": [
    "_guess correct hand which energy Field, then see if the feeled chance higher than the guessed result_\n",
    "\n",
    "_if patients see the result that will lose credit. or not randomly toss a coin by that Emily_"
   ]
  },
  {
   "cell_type": "markdown",
   "id": "554eb81e",
   "metadata": {
    "deletable": false,
    "editable": false
   },
   "source": [
    "**Question 1.2:** Remember that the practitioner got the correct answer 44% (0.44) of the time. According to Emily's model, on average, what proportion of times do we expect the practitioner to guess the correct hand? Make sure your answer is a number between 0 and 1. \n",
    "\n",
    "<!--\n",
    "BEGIN QUESTION\n",
    "name: q1_2\n",
    "-->"
   ]
  },
  {
   "cell_type": "code",
   "execution_count": 3,
   "id": "aa92eb83",
   "metadata": {
    "execution": {
     "iopub.execute_input": "2021-10-04T02:34:21.001030Z",
     "iopub.status.busy": "2021-10-04T02:34:21.000071Z",
     "iopub.status.idle": "2021-10-04T02:34:21.003716Z",
     "shell.execute_reply": "2021-10-04T02:34:21.004460Z"
    }
   },
   "outputs": [
    {
     "data": {
      "text/plain": [
       "0.5"
      ]
     },
     "execution_count": 3,
     "metadata": {},
     "output_type": "execute_result"
    }
   ],
   "source": [
    "expected_proportion_correct = 0.5\n",
    "expected_proportion_correct"
   ]
  },
  {
   "cell_type": "code",
   "execution_count": 4,
   "id": "d42dad82",
   "metadata": {
    "deletable": false,
    "editable": false
   },
   "outputs": [
    {
     "data": {
      "text/html": [
       "<p><strong><pre style='display: inline;'>q1_2</pre></strong> passed!</p>"
      ],
      "text/plain": [
       "q1_2 results: All test cases passed!"
      ]
     },
     "execution_count": 4,
     "metadata": {},
     "output_type": "execute_result"
    }
   ],
   "source": [
    "grader.check(\"q1_2\")"
   ]
  },
  {
   "cell_type": "markdown",
   "id": "f525119c",
   "metadata": {
    "deletable": false,
    "editable": false
   },
   "source": [
    "The goal now is to see if our deviation from this expected proportion of correct answers is due to something other than chance. \n",
    "\n",
    "**Question 1.3:** We usually use a statistic to help determine which model the evidence points towards. What is a statistic that we can use to compare outcomes under Emily’s model to what was observed? Assign `valid_stat` to an array of integer(s) representing test statistics that Emily can use: \n",
    "\n",
    "1. The difference between the expected percent correct and the actual percent correct\n",
    "2. The absolute difference between the expected percent correct and the actual percent correct\n",
    "3. The sum of the expected percent correct and the actual percent correct\n",
    "\n",
    "**NOTE:** Make sure to use `make_array` to create your array of integer(s)!\n",
    "\n",
    "<!--\n",
    "BEGIN QUESTION\n",
    "name: q1_3\n",
    "-->"
   ]
  },
  {
   "cell_type": "code",
   "execution_count": 5,
   "id": "c335b35c",
   "metadata": {
    "execution": {
     "iopub.execute_input": "2021-10-04T02:34:21.026926Z",
     "iopub.status.busy": "2021-10-04T02:34:21.026042Z",
     "iopub.status.idle": "2021-10-04T02:34:21.030169Z",
     "shell.execute_reply": "2021-10-04T02:34:21.029202Z"
    }
   },
   "outputs": [
    {
     "data": {
      "text/plain": [
       "array([1, 1])"
      ]
     },
     "execution_count": 5,
     "metadata": {},
     "output_type": "execute_result"
    }
   ],
   "source": [
    "valid_stat = make_array(1,1)\n",
    "valid_stat"
   ]
  },
  {
   "cell_type": "code",
   "execution_count": 6,
   "id": "58d59cc7",
   "metadata": {
    "deletable": false,
    "editable": false
   },
   "outputs": [
    {
     "data": {
      "text/html": [
       "<p><strong><pre style='display: inline;'>q1_3</pre></strong> passed!</p>"
      ],
      "text/plain": [
       "q1_3 results: All test cases passed!"
      ]
     },
     "execution_count": 6,
     "metadata": {},
     "output_type": "execute_result"
    }
   ],
   "source": [
    "grader.check(\"q1_3\")"
   ]
  },
  {
   "cell_type": "markdown",
   "id": "7729ce7f",
   "metadata": {
    "deletable": false,
    "editable": false
   },
   "source": [
    "**Question 1.4:** Why is the statistic from Question 1.3 the best choice for comparing outcomes in Emily's experiment? How does it relate to the models you defined in Question 1.1?\n",
    "\n",
    "<!--\n",
    "BEGIN QUESTION\n",
    "name: q1_4\n",
    "-->"
   ]
  },
  {
   "cell_type": "markdown",
   "id": "730defa6",
   "metadata": {},
   "source": [
    "_just a non random seq help compare with randomed result_"
   ]
  },
  {
   "cell_type": "markdown",
   "id": "e236a469",
   "metadata": {
    "deletable": false,
    "editable": false
   },
   "source": [
    "**Question 1.5:** Define the function `statistic` which takes in an expected proportion and an actual proportion, and returns the value of the statistic chosen in Question 1.3. Assume that the argument takes in proportions, but  return your answer as a percentage. \n",
    "\n",
    "*Hint:* Remember we are asking for a **percentage**, not a proportion. \n",
    "\n",
    "<!--\n",
    "BEGIN QUESTION\n",
    "name: q1_5\n",
    "-->"
   ]
  },
  {
   "cell_type": "code",
   "execution_count": 7,
   "id": "8d62a4f9",
   "metadata": {
    "execution": {
     "iopub.execute_input": "2021-10-04T02:34:21.051842Z",
     "iopub.status.busy": "2021-10-04T02:34:21.050999Z",
     "iopub.status.idle": "2021-10-04T02:34:21.053494Z",
     "shell.execute_reply": "2021-10-04T02:34:21.054175Z"
    }
   },
   "outputs": [],
   "source": [
    "def statistic(expected_prop, actual_prop):\n",
    "    return abs(expected_prop - actual_prop)*100"
   ]
  },
  {
   "cell_type": "code",
   "execution_count": 8,
   "id": "7fc3edcf",
   "metadata": {
    "deletable": false,
    "editable": false,
    "scrolled": true
   },
   "outputs": [
    {
     "data": {
      "text/html": [
       "<p><strong><pre style='display: inline;'>q1_5</pre></strong> passed!</p>"
      ],
      "text/plain": [
       "q1_5 results: All test cases passed!"
      ]
     },
     "execution_count": 8,
     "metadata": {},
     "output_type": "execute_result"
    }
   ],
   "source": [
    "grader.check(\"q1_5\")"
   ]
  },
  {
   "cell_type": "markdown",
   "id": "e1e54a20",
   "metadata": {
    "deletable": false,
    "editable": false
   },
   "source": [
    "**Question 1.6:** Use your newly defined function to calculate the observed statistic from Emily's experiment. \n",
    "\n",
    "<!--\n",
    "BEGIN QUESTION\n",
    "name: q1_6\n",
    "-->"
   ]
  },
  {
   "cell_type": "code",
   "execution_count": 9,
   "id": "538f22ec",
   "metadata": {
    "execution": {
     "iopub.execute_input": "2021-10-04T02:34:21.077716Z",
     "iopub.status.busy": "2021-10-04T02:34:21.076836Z",
     "iopub.status.idle": "2021-10-04T02:34:21.079927Z",
     "shell.execute_reply": "2021-10-04T02:34:21.080598Z"
    }
   },
   "outputs": [
    {
     "data": {
      "text/plain": [
       "6.0"
      ]
     },
     "execution_count": 9,
     "metadata": {},
     "output_type": "execute_result"
    }
   ],
   "source": [
    "observed_statistic = statistic(0.5,0.44)\n",
    "observed_statistic"
   ]
  },
  {
   "cell_type": "code",
   "execution_count": 10,
   "id": "8b1380c9",
   "metadata": {
    "deletable": false,
    "editable": false
   },
   "outputs": [
    {
     "data": {
      "text/html": [
       "<p><strong><pre style='display: inline;'>q1_6</pre></strong> passed!</p>"
      ],
      "text/plain": [
       "q1_6 results: All test cases passed!"
      ]
     },
     "execution_count": 10,
     "metadata": {},
     "output_type": "execute_result"
    }
   ],
   "source": [
    "grader.check(\"q1_6\")"
   ]
  },
  {
   "cell_type": "markdown",
   "id": "6b556003",
   "metadata": {},
   "source": [
    "**Is this observed statistic consistent with what we expect to see under Emily’s model?**\n",
    "\n",
    "In order to answer this question, we must simulate the experiment as though Emily's model was correct, and calculate our statistic for every simulation.\n",
    "\n",
    "### `sample_proportions`\n",
    "\n",
    "`sample_proportions` can be used to randomly sample from multiple categories when you know the proportion of data points that are expected to fall in each category. `sample_proportions` takes two arguments: the sample size and an array that contains the distribution of categories in the population (should sum to 1).\n",
    "\n",
    "Consider flipping a fair coin, where the two outcomes (coin lands heads and coin lands tails) occur with an equal chance. We expect that half of all coin flips will land heads, and half of all coin flips will land tails.\n",
    "\n",
    "Run the following cell to see the simulation of 10 flips of a fair coin. Let the first item of `coin_proportions` be the proportion of heads and the second item of `coin_proportions` be the proportion of tails.\n",
    "\n",
    "*Observe what happens when you run this cell multiple times—the proportion of coin flips that land heads and tails appears to change, as you are simulating flipping 10 coins each time!*"
   ]
  },
  {
   "cell_type": "code",
   "execution_count": 11,
   "id": "9b547a91",
   "metadata": {
    "execution": {
     "iopub.execute_input": "2021-10-04T02:34:21.095641Z",
     "iopub.status.busy": "2021-10-04T02:34:21.094710Z",
     "iopub.status.idle": "2021-10-04T02:34:21.098923Z",
     "shell.execute_reply": "2021-10-04T02:34:21.099679Z"
    }
   },
   "outputs": [
    {
     "data": {
      "text/plain": [
       "array([0.5, 0.5])"
      ]
     },
     "execution_count": 11,
     "metadata": {},
     "output_type": "execute_result"
    }
   ],
   "source": [
    "coin_proportions = make_array(0.5, 0.5) \n",
    "ten_flips = sample_proportions(10, coin_proportions)\n",
    "ten_flips"
   ]
  },
  {
   "cell_type": "markdown",
   "id": "30852a08",
   "metadata": {},
   "source": [
    "`sample_proportions` returns an array that is the same length as the proportion array that is passed through. It contains the proportion of each category that appears in the sample. \n",
    "\n",
    "In our example, the first item of `ten_flips` is the simulated proportion of heads and the second item of `ten_flips` is the simulated proportion of tails."
   ]
  },
  {
   "cell_type": "code",
   "execution_count": 12,
   "id": "67a7b259",
   "metadata": {
    "execution": {
     "iopub.execute_input": "2021-10-04T02:34:21.106144Z",
     "iopub.status.busy": "2021-10-04T02:34:21.105243Z",
     "iopub.status.idle": "2021-10-04T02:34:21.108565Z",
     "shell.execute_reply": "2021-10-04T02:34:21.109310Z"
    }
   },
   "outputs": [
    {
     "name": "stdout",
     "output_type": "stream",
     "text": [
      "In our simulation, 0.5 of flips were heads and 0.5 of flips were tails.\n"
     ]
    }
   ],
   "source": [
    "simulated_proportion_heads = ten_flips.item(0)\n",
    "simulated_proportion_tails = ten_flips.item(1)\n",
    "\n",
    "print(\"In our simulation, \" + str(simulated_proportion_heads) + \" of flips were heads and \" \\\n",
    "      + str(simulated_proportion_tails) + \" of flips were tails.\")"
   ]
  },
  {
   "cell_type": "markdown",
   "id": "4f5317e4",
   "metadata": {
    "deletable": false,
    "editable": false
   },
   "source": [
    "**Question 1.7:** To begin simulating, we should start by creating a representation of Emily's model to use for our simulation. This will be an array with two items in it. The first item should be the proportion of times a TT practictioner picks the correct hand, assuming that Emily’s model was correct. The second item should be the proportion of times, under the same assumption, that the TT practitioner picks the incorrect hand. Assign `model_proportions` to this array. \n",
    "\n",
    "After this, we can simulate 210 hand choices, as Emily evaluated in real life, and find a single statistic to summarize this instance of the simulation. Use the `sample_proportions` function and assign the **proportion of correct hand choices** (out of 210) to `simulation_proportion_correct`. Lastly, use your statistic function to assign `one_statistic`  to the value of the statistic for this one simulation.\n",
    "\n",
    "*Hint:* `sample_proportions` usage can be found on the [Python Reference](http://data8.org/fa21/python-reference.html).\n",
    "\n",
    "<!--\n",
    "BEGIN QUESTION\n",
    "name: q1_7\n",
    "-->"
   ]
  },
  {
   "cell_type": "code",
   "execution_count": 23,
   "id": "9d5c2aa7",
   "metadata": {
    "execution": {
     "iopub.execute_input": "2021-10-04T02:34:21.116073Z",
     "iopub.status.busy": "2021-10-04T02:34:21.115160Z",
     "iopub.status.idle": "2021-10-04T02:34:21.119831Z",
     "shell.execute_reply": "2021-10-04T02:34:21.118922Z"
    }
   },
   "outputs": [
    {
     "data": {
      "text/plain": [
       "0.9523809523809545"
      ]
     },
     "execution_count": 23,
     "metadata": {},
     "output_type": "execute_result"
    }
   ],
   "source": [
    "# This saves the random state of our code so that we can \n",
    "# generate the same numbers each time we run the code.\n",
    "# Please do not change this line. \n",
    "np.random.seed(16)\n",
    "\n",
    "model_proportions = [0.5, 0.5]\n",
    "simulation_proportion_correct = sample_proportions(210, model_proportions).item(0)\n",
    "one_statistic = statistic(simulation_proportion_correct, statistic) \n",
    "one_statistic"
   ]
  },
  {
   "cell_type": "code",
   "execution_count": 14,
   "id": "c3ffdbf5",
   "metadata": {
    "deletable": false,
    "editable": false
   },
   "outputs": [
    {
     "data": {
      "text/html": [
       "<p><strong><pre style='display: inline;'>q1_7</pre></strong> passed!</p>"
      ],
      "text/plain": [
       "q1_7 results: All test cases passed!"
      ]
     },
     "execution_count": 14,
     "metadata": {},
     "output_type": "execute_result"
    }
   ],
   "source": [
    "grader.check(\"q1_7\")"
   ]
  },
  {
   "cell_type": "markdown",
   "id": "be4341cc",
   "metadata": {},
   "source": [
    "**Question 1.8:** Let's now see what the distribution of statistics is actually like under Emily's model. \n",
    "\n",
    "Define the function `simulation_and_statistic` to take in the `model_proportions` array and the expected proportion of times a TT practitioner would guess a hand correctly under Emily's model. The function should simulate Emily running through the experiment 210 times and return the statistic of this one simulation. \n",
    "\n",
    "*Hint:* This should follow the same pattern as the code you did in the previous problem.  "
   ]
  },
  {
   "cell_type": "code",
   "execution_count": 26,
   "id": "c1a9bd0b",
   "metadata": {
    "execution": {
     "iopub.execute_input": "2021-10-04T02:34:21.174586Z",
     "iopub.status.busy": "2021-10-04T02:34:21.173994Z",
     "iopub.status.idle": "2021-10-04T02:34:21.176525Z",
     "shell.execute_reply": "2021-10-04T02:34:21.176934Z"
    },
    "for_assignment_type": "solution",
    "scrolled": true
   },
   "outputs": [],
   "source": [
    "def simulation_and_statistic(model_proportions, expected_proportion_correct):\n",
    "    '''Simulates 210 TT hand choices under Emily’s model. \n",
    "    Returns one statistic from the simulation.'''\n",
    "    return statistic(sample_proportions(210, model_proportions).item(0),expected_proportion_correct)"
   ]
  },
  {
   "cell_type": "markdown",
   "id": "166e6057",
   "metadata": {
    "deletable": false,
    "editable": false
   },
   "source": [
    "Using this function, assign `simulated_statistics` to an array of 1000 statistics that you calculated under the assumption that Emily's model was true.\n",
    "\n",
    "<!--\n",
    "BEGIN QUESTION\n",
    "name: q1_8\n",
    "-->"
   ]
  },
  {
   "cell_type": "code",
   "execution_count": 27,
   "id": "e634f370",
   "metadata": {
    "execution": {
     "iopub.execute_input": "2021-10-04T02:34:21.182467Z",
     "iopub.status.busy": "2021-10-04T02:34:21.181797Z",
     "iopub.status.idle": "2021-10-04T02:34:21.217521Z",
     "shell.execute_reply": "2021-10-04T02:34:21.217946Z"
    }
   },
   "outputs": [
    {
     "data": {
      "text/plain": [
       "array([ 3.33333333,  7.14285714, 11.42857143, 11.9047619 ,  5.23809524,\n",
       "        6.66666667, 10.47619048,  2.85714286,  9.52380952, 10.        ,\n",
       "        3.80952381,  3.33333333,  8.0952381 ,  3.80952381,  5.71428571,\n",
       "        1.9047619 , 10.        ,  5.71428571,  0.47619048,  7.14285714,\n",
       "       10.47619048,  6.19047619,  3.33333333,  7.61904762,  3.33333333,\n",
       "        8.0952381 , 12.85714286,  9.04761905,  8.57142857,  0.95238095,\n",
       "        7.14285714,  8.0952381 ,  9.52380952,  6.66666667,  6.66666667,\n",
       "       11.9047619 ,  5.71428571,  4.28571429, 10.95238095,  6.19047619,\n",
       "        9.04761905,  7.61904762,  8.57142857,  7.61904762,  5.23809524,\n",
       "        8.57142857,  2.38095238,  0.47619048, 16.66666667,  8.0952381 ,\n",
       "        2.85714286,  2.85714286, 13.33333333,  1.42857143,  5.23809524,\n",
       "        8.0952381 ,  5.23809524, 10.95238095,  2.38095238,  3.33333333,\n",
       "        8.57142857,  6.19047619,  2.38095238,  7.61904762,  3.80952381,\n",
       "        7.14285714,  5.71428571, 10.        ,  3.80952381,  7.14285714,\n",
       "        6.66666667,  9.04761905,  7.61904762,  6.19047619,  5.71428571,\n",
       "        7.14285714,  6.19047619,  8.0952381 ,  1.9047619 ,  6.19047619,\n",
       "        6.66666667,  6.19047619,  8.57142857,  4.28571429,  9.04761905,\n",
       "        7.61904762,  7.14285714,  7.14285714, 13.80952381, 12.38095238,\n",
       "        8.57142857,  0.95238095,  5.71428571,  6.19047619,  2.85714286,\n",
       "        6.19047619,  9.52380952, 10.47619048,  1.9047619 ,  1.9047619 ,\n",
       "        0.95238095,  8.0952381 ,  8.57142857,  3.80952381, 10.        ,\n",
       "        6.66666667,  9.04761905,  4.28571429, 11.42857143,  9.52380952,\n",
       "        8.0952381 ,  7.61904762,  9.04761905,  3.33333333,  4.76190476,\n",
       "        4.76190476,  3.33333333,  8.57142857, 10.        ,  5.23809524,\n",
       "        0.95238095,  1.42857143,  6.19047619, 10.47619048,  2.38095238,\n",
       "       10.        ,  2.85714286,  0.47619048,  5.71428571, 11.42857143,\n",
       "        8.57142857,  9.04761905,  7.14285714,  6.19047619,  7.14285714,\n",
       "        9.04761905,  8.0952381 ,  6.19047619,  7.61904762,  9.04761905,\n",
       "        5.71428571,  5.23809524,  3.80952381, 10.95238095,  5.71428571,\n",
       "        5.71428571,  2.38095238,  7.14285714,  5.23809524,  5.23809524,\n",
       "        4.28571429,  7.61904762,  5.71428571,  4.76190476,  6.66666667,\n",
       "        6.19047619,  7.61904762,  7.61904762,  3.33333333,  1.9047619 ,\n",
       "        6.19047619,  3.33333333,  8.0952381 ,  5.71428571,  5.71428571,\n",
       "        8.0952381 ,  2.38095238,  5.71428571,  2.38095238,  7.61904762,\n",
       "        6.19047619,  3.80952381, 10.        ,  1.9047619 ,  5.23809524,\n",
       "        8.57142857,  8.57142857, 10.47619048, 10.        ,  7.14285714,\n",
       "       12.85714286,  0.47619048,  4.28571429,  8.57142857,  6.66666667,\n",
       "        7.14285714,  5.71428571, 12.85714286,  2.85714286,  6.19047619,\n",
       "        3.80952381,  8.57142857,  0.47619048, 10.95238095, 10.95238095,\n",
       "        4.28571429, 12.38095238,  2.85714286,  4.76190476,  2.85714286,\n",
       "        9.04761905,  8.57142857,  8.57142857,  9.52380952,  4.76190476,\n",
       "        7.61904762,  8.57142857,  5.71428571,  2.85714286,  4.28571429,\n",
       "        7.61904762,  7.61904762, 11.9047619 ,  5.71428571, 10.95238095,\n",
       "       11.42857143,  5.71428571, 10.47619048,  8.57142857,  7.14285714,\n",
       "       10.95238095,  1.42857143,  9.52380952,  9.04761905,  4.76190476,\n",
       "        6.19047619,  2.38095238,  5.71428571,  6.66666667,  2.38095238,\n",
       "        6.66666667,  5.23809524,  7.14285714, 10.        ,  9.04761905,\n",
       "        3.80952381,  5.23809524,  3.80952381,  4.76190476, 10.        ,\n",
       "        8.0952381 ,  4.28571429,  8.57142857,  2.85714286, 10.47619048,\n",
       "        1.9047619 ,  7.14285714,  1.9047619 ,  7.14285714,  7.61904762,\n",
       "        4.28571429,  4.28571429,  6.19047619,  8.0952381 ,  7.14285714,\n",
       "        7.14285714,  3.33333333,  8.57142857,  8.57142857,  7.14285714,\n",
       "        5.71428571,  5.71428571,  4.28571429,  0.47619048, 12.85714286,\n",
       "        5.71428571,  4.76190476,  8.57142857,  0.47619048,  2.85714286,\n",
       "        3.33333333,  9.04761905, 10.47619048,  8.57142857,  2.38095238,\n",
       "        4.76190476,  7.61904762,  3.33333333,  4.28571429,  6.19047619,\n",
       "        0.95238095,  7.14285714,  8.57142857, 10.47619048,  3.80952381,\n",
       "        2.85714286,  6.19047619,  2.85714286,  1.9047619 , 11.9047619 ,\n",
       "        2.38095238, 14.28571429,  3.33333333, 11.42857143,  9.04761905,\n",
       "        8.0952381 ,  2.85714286,  5.23809524,  8.0952381 ,  6.66666667,\n",
       "        7.14285714,  0.95238095,  8.57142857,  8.0952381 ,  2.85714286,\n",
       "        1.9047619 ,  8.57142857,  9.52380952,  7.61904762,  8.57142857,\n",
       "        7.61904762,  8.0952381 ,  0.47619048,  0.47619048, 10.        ,\n",
       "        5.71428571,  3.80952381, 11.9047619 ,  4.76190476,  1.9047619 ,\n",
       "        5.71428571,  7.14285714,  6.19047619,  3.33333333,  3.80952381,\n",
       "        7.14285714,  2.38095238,  7.61904762,  9.04761905,  9.04761905,\n",
       "        1.9047619 ,  3.33333333,  2.38095238,  4.28571429,  5.71428571,\n",
       "        0.47619048,  4.76190476,  5.71428571,  5.23809524,  0.95238095,\n",
       "        8.57142857,  5.71428571,  6.19047619,  4.76190476,  1.9047619 ,\n",
       "        7.14285714,  6.19047619, 13.80952381,  7.61904762,  6.19047619,\n",
       "        8.57142857, 11.42857143,  3.80952381,  0.95238095,  6.19047619,\n",
       "        5.71428571,  8.57142857,  7.14285714,  6.19047619,  6.19047619,\n",
       "        7.61904762, 10.        ,  4.28571429,  5.23809524,  8.0952381 ,\n",
       "        9.52380952,  7.14285714,  9.52380952,  3.33333333,  4.28571429,\n",
       "        3.33333333,  2.85714286, 12.38095238,  7.61904762,  1.9047619 ,\n",
       "        4.28571429,  5.23809524, 10.95238095,  7.14285714,  2.85714286,\n",
       "       11.42857143,  5.23809524,  3.80952381,  8.57142857, 10.        ,\n",
       "        6.19047619,  4.28571429,  1.9047619 ,  6.19047619,  0.47619048,\n",
       "        8.0952381 ,  6.19047619, 10.        ,  1.9047619 , 11.9047619 ,\n",
       "       10.95238095,  6.66666667,  4.76190476,  6.66666667,  2.38095238,\n",
       "        1.9047619 ,  7.14285714,  2.85714286,  4.76190476,  9.04761905,\n",
       "        4.76190476,  0.47619048,  4.28571429,  5.23809524, 11.42857143,\n",
       "        9.52380952,  6.19047619,  9.52380952,  7.14285714,  4.28571429,\n",
       "        9.04761905,  3.33333333,  3.33333333,  8.57142857,  5.23809524,\n",
       "        5.71428571, 11.9047619 ,  3.80952381,  3.80952381,  4.76190476,\n",
       "       13.80952381,  3.33333333,  0.47619048,  3.80952381,  7.61904762,\n",
       "        5.23809524,  9.52380952,  6.19047619,  1.9047619 ,  5.23809524,\n",
       "        3.80952381,  4.76190476,  4.28571429,  5.23809524,  5.23809524,\n",
       "        6.66666667,  6.66666667,  7.14285714,  0.95238095,  4.76190476,\n",
       "        5.23809524,  5.71428571,  0.47619048,  5.71428571,  6.19047619,\n",
       "        0.47619048,  0.95238095,  3.33333333,  6.66666667,  7.14285714,\n",
       "        1.42857143,  6.66666667,  8.57142857,  5.23809524, 12.85714286,\n",
       "        4.28571429,  0.95238095,  9.04761905,  7.61904762, 10.95238095,\n",
       "        6.66666667,  2.85714286,  3.80952381,  6.66666667,  3.33333333,\n",
       "        4.28571429,  8.0952381 ,  7.14285714,  7.61904762,  5.71428571,\n",
       "        7.14285714,  2.85714286,  5.23809524,  5.71428571,  4.28571429,\n",
       "        2.85714286,  3.80952381,  1.9047619 ,  6.66666667,  4.28571429,\n",
       "        3.80952381,  2.85714286,  9.04761905,  3.33333333,  8.57142857,\n",
       "        6.66666667,  6.19047619,  3.33333333,  0.95238095,  5.23809524,\n",
       "        2.38095238,  1.42857143,  9.04761905,  9.52380952,  9.04761905,\n",
       "        7.61904762,  1.42857143,  8.57142857,  5.23809524,  4.76190476,\n",
       "        5.23809524,  6.19047619,  8.57142857,  0.95238095,  2.38095238,\n",
       "        3.80952381,  0.47619048,  7.61904762, 10.        ,  7.14285714,\n",
       "        7.14285714,  3.33333333, 10.        , 10.47619048,  1.9047619 ,\n",
       "        5.71428571,  3.80952381,  1.42857143,  3.80952381,  3.80952381,\n",
       "        5.23809524,  9.04761905,  6.19047619, 11.42857143,  7.61904762,\n",
       "        8.0952381 ,  5.71428571,  0.        ,  0.        ,  2.38095238,\n",
       "       11.42857143, 11.42857143,  7.14285714,  9.52380952,  8.0952381 ,\n",
       "        6.66666667,  3.33333333,  0.47619048,  0.47619048,  3.80952381,\n",
       "       11.42857143,  8.0952381 ,  7.14285714,  0.47619048,  4.76190476,\n",
       "        7.61904762,  8.57142857,  2.38095238,  4.76190476,  4.28571429,\n",
       "        5.23809524, 10.        ,  5.23809524,  8.57142857,  5.23809524,\n",
       "        7.61904762,  5.23809524,  3.33333333,  0.95238095,  5.23809524,\n",
       "       10.47619048, 13.80952381,  3.80952381,  0.47619048,  5.71428571,\n",
       "        9.04761905,  1.42857143,  1.9047619 ,  9.52380952,  4.28571429,\n",
       "        3.80952381,  2.85714286,  3.80952381,  9.04761905,  7.61904762,\n",
       "        4.76190476,  5.23809524,  8.57142857,  4.76190476,  5.23809524,\n",
       "        2.85714286,  7.61904762, 10.95238095,  9.04761905,  7.14285714,\n",
       "        4.28571429,  4.28571429,  6.19047619,  7.14285714,  6.19047619,\n",
       "       11.42857143, 12.38095238,  8.0952381 ,  3.80952381,  2.85714286,\n",
       "        5.23809524,  6.19047619,  2.85714286, 11.9047619 ,  3.33333333,\n",
       "        3.80952381,  2.85714286,  7.61904762,  3.80952381,  4.76190476,\n",
       "        7.61904762, 10.        ,  5.71428571,  8.0952381 , 11.42857143,\n",
       "        4.76190476,  1.42857143,  6.19047619,  3.33333333,  5.71428571,\n",
       "        9.04761905, 11.9047619 ,  8.57142857,  6.66666667,  9.52380952,\n",
       "        1.9047619 ,  4.76190476,  9.52380952,  4.28571429,  7.14285714,\n",
       "        6.19047619,  3.80952381, 10.47619048,  8.0952381 ,  3.33333333,\n",
       "        5.23809524, 10.95238095,  6.66666667,  7.14285714,  4.76190476,\n",
       "        2.85714286,  3.33333333, 10.        ,  4.76190476,  6.19047619,\n",
       "        6.19047619,  0.47619048,  8.57142857, 12.85714286,  6.66666667,\n",
       "        5.23809524,  1.42857143,  8.0952381 ,  7.61904762,  2.38095238,\n",
       "        0.        ,  3.80952381, 13.80952381,  2.85714286,  4.28571429,\n",
       "        4.28571429, 10.        ,  9.04761905,  2.38095238, 10.47619048,\n",
       "        2.38095238,  2.85714286, 11.42857143,  0.95238095,  0.        ,\n",
       "        2.38095238,  9.04761905, 10.        ,  4.28571429, 13.33333333,\n",
       "        1.9047619 , 12.85714286,  1.42857143,  7.14285714, 10.        ,\n",
       "        6.19047619,  7.61904762,  5.23809524,  2.85714286,  7.14285714,\n",
       "        5.71428571,  3.33333333,  6.66666667,  3.80952381,  9.52380952,\n",
       "        3.80952381, 10.47619048, 12.85714286,  7.14285714,  7.14285714,\n",
       "        7.14285714,  5.71428571, 10.95238095,  5.23809524,  3.80952381,\n",
       "        0.        ,  2.85714286,  9.04761905, 11.42857143,  5.71428571,\n",
       "        9.52380952,  7.14285714,  7.14285714, 10.47619048,  3.80952381,\n",
       "        1.9047619 ,  9.04761905,  1.9047619 ,  5.71428571, 13.33333333,\n",
       "        8.57142857,  9.04761905,  4.76190476,  4.28571429,  9.04761905,\n",
       "        4.28571429,  6.19047619,  7.61904762,  3.80952381, 10.47619048,\n",
       "        3.80952381,  2.85714286,  0.        ,  3.33333333,  0.95238095,\n",
       "        7.14285714,  8.57142857,  1.9047619 ,  6.19047619,  1.9047619 ,\n",
       "        6.66666667,  7.61904762,  6.66666667, 13.33333333,  2.85714286,\n",
       "       10.47619048,  3.33333333,  6.19047619,  4.28571429,  7.14285714,\n",
       "        2.85714286,  4.28571429,  8.0952381 , 13.80952381, 10.95238095,\n",
       "        5.23809524,  3.33333333,  6.19047619,  0.95238095,  3.80952381,\n",
       "        0.        ,  2.85714286,  6.66666667,  0.47619048,  4.28571429,\n",
       "        2.38095238,  1.42857143,  7.61904762,  7.61904762, 10.47619048,\n",
       "        4.76190476,  4.28571429, 12.85714286,  3.80952381,  4.28571429,\n",
       "        9.04761905,  4.28571429,  6.19047619,  8.57142857,  8.0952381 ,\n",
       "        4.76190476,  4.28571429,  4.28571429,  5.71428571,  1.42857143,\n",
       "        8.0952381 ,  6.66666667,  9.52380952,  5.71428571, 10.95238095,\n",
       "       12.38095238,  5.71428571,  4.76190476,  0.95238095, 10.95238095,\n",
       "       10.47619048,  1.42857143, 10.47619048,  1.9047619 ,  7.61904762,\n",
       "        0.95238095,  5.71428571,  6.66666667, 10.95238095, 10.        ,\n",
       "        7.61904762, 13.33333333,  5.71428571,  5.23809524,  3.80952381,\n",
       "        9.52380952,  1.9047619 ,  7.61904762,  6.19047619,  7.14285714,\n",
       "       11.42857143,  3.33333333,  7.61904762,  7.61904762, 10.47619048,\n",
       "        8.57142857,  7.14285714, 15.23809524,  4.28571429,  3.80952381,\n",
       "        6.19047619, 11.42857143,  0.95238095,  3.33333333,  1.9047619 ,\n",
       "       15.23809524,  5.23809524,  7.61904762,  4.28571429, 14.28571429,\n",
       "        5.23809524,  2.85714286,  9.04761905, 10.95238095,  5.71428571,\n",
       "        8.0952381 ,  8.57142857,  6.66666667,  2.38095238,  6.19047619,\n",
       "       10.95238095,  3.33333333, 11.42857143, 10.47619048,  2.85714286,\n",
       "        7.14285714,  4.28571429,  9.04761905,  7.14285714,  3.80952381,\n",
       "        2.85714286,  4.28571429,  6.66666667, 11.42857143,  9.52380952,\n",
       "        3.80952381,  2.85714286,  5.23809524, 10.47619048, 14.76190476,\n",
       "        8.0952381 ,  3.33333333,  9.04761905,  2.38095238,  4.76190476,\n",
       "        6.19047619, 10.95238095,  3.80952381,  7.14285714,  1.9047619 ,\n",
       "        1.9047619 ,  9.04761905,  9.04761905,  6.19047619,  0.95238095,\n",
       "       12.38095238,  8.0952381 ,  7.61904762,  4.28571429,  6.66666667,\n",
       "        4.76190476, 12.38095238,  3.80952381,  0.95238095,  2.38095238,\n",
       "        1.42857143,  2.85714286,  3.33333333,  9.52380952,  2.38095238,\n",
       "        5.71428571, 10.95238095,  4.28571429,  9.52380952,  2.85714286,\n",
       "        1.42857143,  7.61904762, 10.47619048,  2.38095238,  6.66666667,\n",
       "       10.        ,  7.61904762,  9.52380952,  3.80952381,  4.76190476,\n",
       "        3.33333333,  3.80952381,  4.76190476,  2.38095238,  6.66666667,\n",
       "       12.38095238,  9.52380952,  7.14285714,  8.0952381 ,  5.71428571,\n",
       "        5.71428571,  1.9047619 ,  7.14285714,  8.0952381 ,  4.28571429,\n",
       "        7.61904762, 15.23809524, 10.47619048,  1.9047619 , 10.95238095,\n",
       "        8.57142857,  7.14285714, 10.        , 13.80952381,  7.14285714,\n",
       "        2.85714286, 10.        ,  4.28571429,  4.28571429,  7.61904762,\n",
       "        7.14285714,  5.71428571,  9.04761905,  7.61904762, 10.47619048,\n",
       "        1.42857143,  5.23809524,  4.28571429,  0.        ,  7.14285714,\n",
       "        5.23809524,  5.71428571,  8.57142857,  5.71428571,  0.47619048,\n",
       "       12.85714286,  0.        ,  6.66666667,  4.76190476,  3.33333333,\n",
       "        7.14285714, 11.9047619 ,  6.19047619,  7.14285714,  6.19047619,\n",
       "        4.28571429,  2.38095238,  7.61904762, 15.71428571,  3.80952381,\n",
       "        6.19047619, 12.85714286,  0.47619048, 10.        ,  7.61904762,\n",
       "        8.0952381 ,  0.95238095,  7.14285714,  6.66666667,  2.38095238,\n",
       "        2.38095238,  5.71428571,  6.19047619,  1.9047619 ,  6.66666667,\n",
       "        4.76190476,  5.23809524,  6.66666667,  4.28571429,  4.28571429,\n",
       "        4.76190476,  4.76190476,  4.76190476,  4.76190476,  0.95238095,\n",
       "       10.95238095,  2.85714286,  2.85714286,  4.28571429,  2.85714286,\n",
       "        5.71428571,  7.14285714,  1.9047619 ,  4.28571429,  6.66666667])"
      ]
     },
     "execution_count": 27,
     "metadata": {},
     "output_type": "execute_result"
    }
   ],
   "source": [
    "num_repetitions = 1000\n",
    "\n",
    "simulated_statistics = make_array()\n",
    "\n",
    "for i in np.arange(num_repetitions):\n",
    "    simulated_statistics = np.append(\n",
    "        simulated_statistics,\n",
    "        simulation_and_statistic(\n",
    "            [0.44,0.56],\n",
    "            expected_proportion_correct\n",
    "        ))\n",
    "simulated_statistics    "
   ]
  },
  {
   "cell_type": "code",
   "execution_count": 28,
   "id": "e170cce5",
   "metadata": {
    "deletable": false,
    "editable": false
   },
   "outputs": [
    {
     "data": {
      "text/html": [
       "<p><strong><pre style='display: inline;'>q1_8</pre></strong> passed!</p>"
      ],
      "text/plain": [
       "q1_8 results: All test cases passed!"
      ]
     },
     "execution_count": 28,
     "metadata": {},
     "output_type": "execute_result"
    }
   ],
   "source": [
    "grader.check(\"q1_8\")"
   ]
  },
  {
   "cell_type": "markdown",
   "id": "88ab733e",
   "metadata": {},
   "source": [
    "Let's view the distribution of the simulated statistics under Emily's model, and visually compare where the observed statistic lies relative to the simulated statistics."
   ]
  },
  {
   "cell_type": "code",
   "execution_count": 29,
   "id": "1ef50feb",
   "metadata": {
    "execution": {
     "iopub.execute_input": "2021-10-04T02:34:21.278443Z",
     "iopub.status.busy": "2021-10-04T02:34:21.262708Z",
     "iopub.status.idle": "2021-10-04T02:34:21.475380Z",
     "shell.execute_reply": "2021-10-04T02:34:21.474859Z"
    }
   },
   "outputs": [
    {
     "data": {
      "image/png": "[encoded data removed]",
      "text/plain": [
       "<Figure size 432x288 with 1 Axes>"
      ]
     },
     "metadata": {},
     "output_type": "display_data"
    }
   ],
   "source": [
    "t = Table().with_column('Simulated Statistics', simulated_statistics)\n",
    "t.hist()\n",
    "plt.scatter(observed_statistic, 0, color='red', s=100, zorder=2);"
   ]
  },
  {
   "cell_type": "markdown",
   "id": "2ea3d8b6",
   "metadata": {},
   "source": [
    "We can make a visual argument as to whether we believe the observed statistic is consistent with Emily’s model. Here, since larger values of the test statistic suggest the alternative model (where the chance of guessing the correct hand is something other than 50%), we can formalize our analysis by finding what proportion of simulated statistics were as large or larger than our observed test statistic (the area at or to the right of the observed test statistic). If this area is small enough, we’ll declare that the observed data are inconsistent with our simulated model."
   ]
  },
  {
   "cell_type": "markdown",
   "id": "5d6b140d",
   "metadata": {
    "deletable": false,
    "editable": false
   },
   "source": [
    "**Question 1.9:** Calculate the proportion of simulated statistics greater than or equal to the observed statistic. \n",
    "\n",
    "*Hint:* `np.count_nonzero` usage can be found [here](http://data8.org/fa21/python-reference.html).\n",
    "\n",
    "<!--\n",
    "BEGIN QUESTION\n",
    "name: q1_9\n",
    "-->"
   ]
  },
  {
   "cell_type": "code",
   "execution_count": 34,
   "id": "76868e07",
   "metadata": {
    "execution": {
     "iopub.execute_input": "2021-10-04T02:34:21.481107Z",
     "iopub.status.busy": "2021-10-04T02:34:21.480539Z",
     "iopub.status.idle": "2021-10-04T02:34:21.483736Z",
     "shell.execute_reply": "2021-10-04T02:34:21.484218Z"
    },
    "scrolled": true
   },
   "outputs": [
    {
     "data": {
      "text/plain": [
       "0.514"
      ]
     },
     "execution_count": 34,
     "metadata": {},
     "output_type": "execute_result"
    }
   ],
   "source": [
    "proportion_greater_or_equal = np.count_nonzero(simulated_statistics >= observed_statistic)/1000\n",
    "proportion_greater_or_equal"
   ]
  },
  {
   "cell_type": "code",
   "execution_count": 36,
   "id": "da47fa84",
   "metadata": {
    "deletable": false,
    "editable": false
   },
   "outputs": [
    {
     "data": {
      "text/html": [
       "<p><strong><pre style='display: inline;'>q1_9</pre></strong> passed!</p>"
      ],
      "text/plain": [
       "q1_9 results: All test cases passed!"
      ]
     },
     "execution_count": 36,
     "metadata": {},
     "output_type": "execute_result"
    }
   ],
   "source": [
    "grader.check(\"q1_9\")"
   ]
  },
  {
   "cell_type": "markdown",
   "id": "2b8f3898",
   "metadata": {},
   "source": [
    "By convention, we often compare the proportion we just calculated to 0.05. If the proportion of simulated statistics greater than or equal to the observed statistic is sufficiently small (less than or equal to 0.05), then this is evidence against Emily's model. Conceptually, you may think of this as the case where less than 5% of simulated values are as far or farther away from what we had expected. If this is not the case, we don’t have any reason to doubt Emily’s model. \n",
    "\n",
    "This should help you make your own conclusions about Emily Rosa's experiment. \n",
    "\n",
    "Therapeutic touch fell out of use after this experiment, which was eventually accepted into one of the premier medical journals. TT practitioners hit back and accused Emily and her family of tampering with the results, while some claimed that Emily's bad spiritual mood towards therapeutic touch made it difficult to read her HEF. Whatever it may be, Emily's experiment is a classic example about how anyone, with the right resources, can test anything they want!"
   ]
  },
  {
   "cell_type": "markdown",
   "id": "81d2060d",
   "metadata": {},
   "source": [
    "**Now, take some time to think to yourself and discuss with your peers:**\n",
    "\n",
    "1. Is the data more consistent with Emily' model (practioners were randomly guessing)?\n",
    "\n",
    "    _Yep_\n",
    "    \n",
    "2. What does this mean in terms of Emily's experiment? Do the TT practitioners' answers follow an even chance model or is there something else at play? \n",
    "    \n",
    "    _placebo_"
   ]
  },
  {
   "cell_type": "markdown",
   "id": "084df97c",
   "metadata": {},
   "source": [
    "## 2. Submission\n",
    "\n",
    "Congratulations, you're done with Lab 6!  Be sure to \n",
    "- **Run all the tests** (the next cell has a shortcut for that). \n",
    "- **Save and Checkpoint** from the `File` menu.\n",
    "- **Run the cell at the bottom to download a .zip file and submit to Gradescope.**.\n",
    "- If you're in lab, ask one of the staff members to check you off."
   ]
  },
  {
   "cell_type": "markdown",
   "id": "19455035",
   "metadata": {
    "deletable": false,
    "editable": false
   },
   "source": [
    "---\n",
    "\n",
    "To double-check your work, the cell below will rerun all of the autograder tests."
   ]
  },
  {
   "cell_type": "code",
   "execution_count": 37,
   "id": "726b522a",
   "metadata": {
    "deletable": false,
    "editable": false
   },
   "outputs": [
    {
     "data": {
      "text/plain": [
       "q1_2 results: All test cases passed!\n",
       "\n",
       "q1_3 results: All test cases passed!\n",
       "\n",
       "q1_5 results: All test cases passed!\n",
       "\n",
       "q1_6 results: All test cases passed!\n",
       "\n",
       "q1_7 results: All test cases passed!\n",
       "\n",
       "q1_8 results: All test cases passed!\n",
       "\n",
       "q1_9 results: All test cases passed!"
      ]
     },
     "execution_count": 37,
     "metadata": {},
     "output_type": "execute_result"
    }
   ],
   "source": [
    "grader.check_all()"
   ]
  },
  {
   "cell_type": "markdown",
   "id": "7c903fe8",
   "metadata": {
    "deletable": false,
    "editable": false
   },
   "source": [
    "## Submission\n",
    "\n",
    "Make sure you have run all cells in your notebook in order before running the cell below, so that all images/graphs appear in the output. The cell below will generate a zip file for you to submit. **Please save before exporting!**"
   ]
  },
  {
   "cell_type": "code",
   "execution_count": null,
   "id": "de61d3c4",
   "metadata": {
    "deletable": false,
    "editable": false
   },
   "outputs": [],
   "source": [
    "# Save your notebook first, then run this cell to export your submission.\n",
    "grader.export(pdf=False, force_save=True)"
   ]
  },
  {
   "cell_type": "markdown",
   "id": "6a88244c",
   "metadata": {},
   "source": [
    " "
   ]
  }
 ],
 "metadata": {
  "kernelspec": {
   "display_name": "Python 3",
   "language": "python",
   "name": "python3"
  },
  "language_info": {
   "codemirror_mode": {
    "name": "ipython",
    "version": 3
   },
   "file_extension": ".py",
   "mimetype": "text/x-python",
   "name": "python",
   "nbconvert_exporter": "python",
   "pygments_lexer": "ipython3",
   "version": "3.8.8"
  }
 },
 "nbformat": 4,
 "nbformat_minor": 5
}
